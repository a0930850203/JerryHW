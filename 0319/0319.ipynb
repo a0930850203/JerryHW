{
 "cells": [
  {
   "cell_type": "markdown",
   "metadata": {},
   "source": [
    "上課練習"
   ]
  },
  {
   "cell_type": "code",
   "execution_count": 1,
   "metadata": {},
   "outputs": [],
   "source": [
    "class_ntust={\"班級\":\"甲班\"}"
   ]
  },
  {
   "cell_type": "code",
   "execution_count": 6,
   "metadata": {},
   "outputs": [],
   "source": [
    "class_ntust[\"甲班\"]=\"乙班\""
   ]
  },
  {
   "cell_type": "code",
   "execution_count": 7,
   "metadata": {},
   "outputs": [
    {
     "data": {
      "text/plain": [
       "{'班級': '甲班', '甲班': '乙班'}"
      ]
     },
     "execution_count": 7,
     "metadata": {},
     "output_type": "execute_result"
    }
   ],
   "source": [
    "class_ntust"
   ]
  },
  {
   "cell_type": "code",
   "execution_count": 11,
   "metadata": {},
   "outputs": [],
   "source": [
    "class_ntust2={\"班級2\":\"丙班\"}"
   ]
  },
  {
   "cell_type": "code",
   "execution_count": 12,
   "metadata": {},
   "outputs": [],
   "source": [
    "class_ntust.update(class_ntust2)"
   ]
  },
  {
   "cell_type": "code",
   "execution_count": 13,
   "metadata": {},
   "outputs": [
    {
     "data": {
      "text/plain": [
       "{'班級': '丙班', '班級2': '丙班', '甲班': '乙班'}"
      ]
     },
     "execution_count": 13,
     "metadata": {},
     "output_type": "execute_result"
    }
   ],
   "source": [
    "class_ntust"
   ]
  },
  {
   "cell_type": "code",
   "execution_count": 14,
   "metadata": {
    "scrolled": true
   },
   "outputs": [
    {
     "data": {
      "text/plain": [
       "{'班級': '丙班', '班級2': '丙班', '甲班': '乙班'}"
      ]
     },
     "execution_count": 14,
     "metadata": {},
     "output_type": "execute_result"
    }
   ],
   "source": [
    "class_ntust"
   ]
  },
  {
   "cell_type": "code",
   "execution_count": 16,
   "metadata": {},
   "outputs": [],
   "source": [
    "x=class_ntust.get(\"學號\")"
   ]
  },
  {
   "cell_type": "code",
   "execution_count": 17,
   "metadata": {},
   "outputs": [],
   "source": []
  },
  {
   "cell_type": "code",
   "execution_count": null,
   "metadata": {},
   "outputs": [],
   "source": []
  },
  {
   "cell_type": "code",
   "execution_count": 21,
   "metadata": {},
   "outputs": [
    {
     "data": {
      "text/plain": [
       "dict"
      ]
     },
     "execution_count": 21,
     "metadata": {},
     "output_type": "execute_result"
    }
   ],
   "source": [
    "type(drinks)"
   ]
  },
  {
   "cell_type": "markdown",
   "metadata": {},
   "source": [
    "execrise"
   ]
  },
  {
   "cell_type": "code",
   "execution_count": 1,
   "metadata": {},
   "outputs": [
    {
     "name": "stdout",
     "output_type": "stream",
     "text": [
      "重複了嗎?123123\n"
     ]
    },
    {
     "data": {
      "text/plain": [
       "True"
      ]
     },
     "execution_count": 1,
     "metadata": {},
     "output_type": "execute_result"
    }
   ],
   "source": [
    "a = input(\"重複了嗎?\")\n",
    "x = set(a)\n",
    "len(a) != len(x|x)"
   ]
  },
  {
   "cell_type": "markdown",
   "metadata": {},
   "source": [
    "作業二"
   ]
  },
  {
   "cell_type": "code",
   "execution_count": 31,
   "metadata": {},
   "outputs": [
    {
     "name": "stdout",
     "output_type": "stream",
     "text": [
      "顏色是什麼?紅色\n",
      "酷喔\n"
     ]
    }
   ],
   "source": [
    "\n",
    "iron_man_color = input(\"顏色是什麼?\")\n",
    "if iron_man_color == \"紅色\":\n",
    "    print(\"酷喔\")\n",
    "elif iron_man_color == \"綠色\":\n",
    "    print(\"浩克的顏色\")\n",
    "elif iron_man_color == \"藍色\":\n",
    "    print(\"藍色小精靈\")\n",
    "else:\n",
    "    print(\"母湯啦\")\n"
   ]
  },
  {
   "cell_type": "markdown",
   "metadata": {},
   "source": [
    "作業三"
   ]
  },
  {
   "cell_type": "code",
   "execution_count": 2,
   "metadata": {},
   "outputs": [
    {
     "name": "stdout",
     "output_type": "stream",
     "text": [
      "猜猜看?[按Q退出]2\n",
      "再來啊\n",
      "猜猜看?[按Q退出]3\n",
      "再來啊\n",
      "猜猜看?[按Q退出]1\n",
      "????\n"
     ]
    }
   ],
   "source": [
    "while True:\n",
    "    x = input(\"猜猜看?[按Q退出]\")\n",
    "    if x == \"Q\":\n",
    "        print(\"嫩啦\")\n",
    "        break\n",
    "    elif x == \"1\":\n",
    "        print(\"????\")\n",
    "        break\n",
    "    else :\n",
    "        print(\"再來啊\")"
   ]
  },
  {
   "cell_type": "markdown",
   "metadata": {},
   "source": [
    "作業四"
   ]
  },
  {
   "cell_type": "code",
   "execution_count": 3,
   "metadata": {},
   "outputs": [
    {
     "name": "stdout",
     "output_type": "stream",
     "text": [
      "1 * 1 = 1\n",
      "1 * 2 = 2\n",
      "1 * 3 = 3\n",
      "1 * 4 = 4\n",
      "1 * 5 = 5\n",
      "1 * 6 = 6\n",
      "1 * 7 = 7\n",
      "1 * 8 = 8\n",
      "1 * 9 = 9\n",
      "2 * 1 = 2\n",
      "2 * 2 = 4\n",
      "2 * 3 = 6\n",
      "2 * 4 = 8\n",
      "2 * 5 = 10\n",
      "2 * 6 = 12\n",
      "2 * 7 = 14\n",
      "2 * 8 = 16\n",
      "2 * 9 = 18\n",
      "3 * 1 = 3\n",
      "3 * 2 = 6\n",
      "3 * 3 = 9\n",
      "3 * 4 = 12\n",
      "3 * 5 = 15\n",
      "3 * 6 = 18\n",
      "3 * 7 = 21\n",
      "3 * 8 = 24\n",
      "3 * 9 = 27\n",
      "4 * 1 = 4\n",
      "4 * 2 = 8\n",
      "4 * 3 = 12\n",
      "4 * 4 = 16\n",
      "4 * 5 = 20\n",
      "4 * 6 = 24\n",
      "4 * 7 = 28\n",
      "4 * 8 = 32\n",
      "4 * 9 = 36\n",
      "5 * 1 = 5\n",
      "5 * 2 = 10\n",
      "5 * 3 = 15\n",
      "5 * 4 = 20\n",
      "5 * 5 = 25\n",
      "5 * 6 = 30\n",
      "5 * 7 = 35\n",
      "5 * 8 = 40\n",
      "5 * 9 = 45\n",
      "6 * 1 = 6\n",
      "6 * 2 = 12\n",
      "6 * 3 = 18\n",
      "6 * 4 = 24\n",
      "6 * 5 = 30\n",
      "6 * 6 = 36\n",
      "6 * 7 = 42\n",
      "6 * 8 = 48\n",
      "6 * 9 = 54\n",
      "7 * 1 = 7\n",
      "7 * 2 = 14\n",
      "7 * 3 = 21\n",
      "7 * 4 = 28\n",
      "7 * 5 = 35\n",
      "7 * 6 = 42\n",
      "7 * 7 = 49\n",
      "7 * 8 = 56\n",
      "7 * 9 = 63\n",
      "8 * 1 = 8\n",
      "8 * 2 = 16\n",
      "8 * 3 = 24\n",
      "8 * 4 = 32\n",
      "8 * 5 = 40\n",
      "8 * 6 = 48\n",
      "8 * 7 = 56\n",
      "8 * 8 = 64\n",
      "8 * 9 = 72\n",
      "9 * 1 = 9\n",
      "9 * 2 = 18\n",
      "9 * 3 = 27\n",
      "9 * 4 = 36\n",
      "9 * 5 = 45\n",
      "9 * 6 = 54\n",
      "9 * 7 = 63\n",
      "9 * 8 = 72\n",
      "9 * 9 = 81\n"
     ]
    }
   ],
   "source": [
    "#迴圈九九乘法表\n",
    "x = range(1,10)\n",
    "for q in x:\n",
    "    y = range(1,10)\n",
    "    for w in y:\n",
    "        e = q*w\n",
    "        print(q,\"*\",w,\"=\",e)"
   ]
  },
  {
   "cell_type": "markdown",
   "metadata": {},
   "source": [
    "作業五"
   ]
  },
  {
   "cell_type": "code",
   "execution_count": 11,
   "metadata": {},
   "outputs": [
    {
     "data": {
      "text/plain": [
       "[1, 3, 5]"
      ]
     },
     "execution_count": 11,
     "metadata": {},
     "output_type": "execute_result"
    }
   ],
   "source": [
    "a_list = []\n",
    "for number in range (1,6):\n",
    "    if number%2 == 1:\n",
    "        a_list.append(number)\n",
    "a_list        "
   ]
  },
  {
   "cell_type": "markdown",
   "metadata": {},
   "source": [
    "作業六"
   ]
  },
  {
   "cell_type": "code",
   "execution_count": 19,
   "metadata": {},
   "outputs": [
    {
     "data": {
      "text/plain": [
       "[(1, '*', 1, '=', 1),\n",
       " (1, '*', 2, '=', 2),\n",
       " (1, '*', 3, '=', 3),\n",
       " (1, '*', 4, '=', 4),\n",
       " (1, '*', 5, '=', 5),\n",
       " (1, '*', 6, '=', 6),\n",
       " (1, '*', 7, '=', 7),\n",
       " (1, '*', 8, '=', 8),\n",
       " (1, '*', 9, '=', 9),\n",
       " (2, '*', 1, '=', 2),\n",
       " (2, '*', 2, '=', 4),\n",
       " (2, '*', 3, '=', 6),\n",
       " (2, '*', 4, '=', 8),\n",
       " (2, '*', 5, '=', 10),\n",
       " (2, '*', 6, '=', 12),\n",
       " (2, '*', 7, '=', 14),\n",
       " (2, '*', 8, '=', 16),\n",
       " (2, '*', 9, '=', 18),\n",
       " (3, '*', 1, '=', 3),\n",
       " (3, '*', 2, '=', 6),\n",
       " (3, '*', 3, '=', 9),\n",
       " (3, '*', 4, '=', 12),\n",
       " (3, '*', 5, '=', 15),\n",
       " (3, '*', 6, '=', 18),\n",
       " (3, '*', 7, '=', 21),\n",
       " (3, '*', 8, '=', 24),\n",
       " (3, '*', 9, '=', 27),\n",
       " (4, '*', 1, '=', 4),\n",
       " (4, '*', 2, '=', 8),\n",
       " (4, '*', 3, '=', 12),\n",
       " (4, '*', 4, '=', 16),\n",
       " (4, '*', 5, '=', 20),\n",
       " (4, '*', 6, '=', 24),\n",
       " (4, '*', 7, '=', 28),\n",
       " (4, '*', 8, '=', 32),\n",
       " (4, '*', 9, '=', 36),\n",
       " (5, '*', 1, '=', 5),\n",
       " (5, '*', 2, '=', 10),\n",
       " (5, '*', 3, '=', 15),\n",
       " (5, '*', 4, '=', 20),\n",
       " (5, '*', 5, '=', 25),\n",
       " (5, '*', 6, '=', 30),\n",
       " (5, '*', 7, '=', 35),\n",
       " (5, '*', 8, '=', 40),\n",
       " (5, '*', 9, '=', 45),\n",
       " (6, '*', 1, '=', 6),\n",
       " (6, '*', 2, '=', 12),\n",
       " (6, '*', 3, '=', 18),\n",
       " (6, '*', 4, '=', 24),\n",
       " (6, '*', 5, '=', 30),\n",
       " (6, '*', 6, '=', 36),\n",
       " (6, '*', 7, '=', 42),\n",
       " (6, '*', 8, '=', 48),\n",
       " (6, '*', 9, '=', 54),\n",
       " (7, '*', 1, '=', 7),\n",
       " (7, '*', 2, '=', 14),\n",
       " (7, '*', 3, '=', 21),\n",
       " (7, '*', 4, '=', 28),\n",
       " (7, '*', 5, '=', 35),\n",
       " (7, '*', 6, '=', 42),\n",
       " (7, '*', 7, '=', 49),\n",
       " (7, '*', 8, '=', 56),\n",
       " (7, '*', 9, '=', 63),\n",
       " (8, '*', 1, '=', 8),\n",
       " (8, '*', 2, '=', 16),\n",
       " (8, '*', 3, '=', 24),\n",
       " (8, '*', 4, '=', 32),\n",
       " (8, '*', 5, '=', 40),\n",
       " (8, '*', 6, '=', 48),\n",
       " (8, '*', 7, '=', 56),\n",
       " (8, '*', 8, '=', 64),\n",
       " (8, '*', 9, '=', 72),\n",
       " (9, '*', 1, '=', 9),\n",
       " (9, '*', 2, '=', 18),\n",
       " (9, '*', 3, '=', 27),\n",
       " (9, '*', 4, '=', 36),\n",
       " (9, '*', 5, '=', 45),\n",
       " (9, '*', 6, '=', 54),\n",
       " (9, '*', 7, '=', 63),\n",
       " (9, '*', 8, '=', 72),\n",
       " (9, '*', 9, '=', 81)]"
      ]
     },
     "execution_count": 19,
     "metadata": {},
     "output_type": "execute_result"
    }
   ],
   "source": [
    "#生成式99乘法表\n",
    "a_work = [(a,\"*\",b,\"=\",a*b) for a in range(1,10) for b in range(1,10)]\n",
    "a_work\n"
   ]
  },
  {
   "cell_type": "markdown",
   "metadata": {},
   "source": [
    "作業七"
   ]
  },
  {
   "cell_type": "code",
   "execution_count": 1,
   "metadata": {},
   "outputs": [
    {
     "name": "stdout",
     "output_type": "stream",
     "text": [
      "來猜阿123\n"
     ]
    },
    {
     "data": {
      "text/plain": [
       "'母湯啦'"
      ]
     },
     "execution_count": 1,
     "metadata": {},
     "output_type": "execute_result"
    }
   ],
   "source": [
    "def iron_man_color (x):\n",
    "    x = input(\"來猜阿\")\n",
    "    if x == \"紅色\":\n",
    "        return(\"酷喔\")\n",
    "    elif x == \"綠色\":\n",
    "        return(\"浩克的顏色\")\n",
    "    elif x == \"藍色\":\n",
    "        return(\"藍色小精靈\")\n",
    "    else:\n",
    "        return(\"母湯啦\")\n",
    "iron_man_color(\"x\")"
   ]
  },
  {
   "cell_type": "code",
   "execution_count": 10,
   "metadata": {},
   "outputs": [
    {
     "data": {
      "text/plain": [
       "10"
      ]
     },
     "execution_count": 10,
     "metadata": {},
     "output_type": "execute_result"
    }
   ],
   "source": [
    "def practice_args(func,*x):\n",
    "    return func(*x)\n",
    "def sum_args(*x):\n",
    "    return sum(x)\n",
    "practice_args(sum_args,1,2,3,4)"
   ]
  },
  {
   "cell_type": "markdown",
   "metadata": {},
   "source": [
    "作業八"
   ]
  },
  {
   "cell_type": "code",
   "execution_count": 2,
   "metadata": {},
   "outputs": [
    {
     "name": "stdout",
     "output_type": "stream",
     "text": [
      "3\n",
      "-1\n",
      "2\n",
      "0.5\n"
     ]
    }
   ],
   "source": [
    "#用函式寫計算機\n",
    "def function(a,b):\n",
    "    print(a+b)\n",
    "    print(a-b)\n",
    "    print(a*b)\n",
    "    print(a/b)\n",
    "function(1,2)"
   ]
  },
  {
   "cell_type": "code",
   "execution_count": null,
   "metadata": {},
   "outputs": [],
   "source": []
  }
 ],
 "metadata": {
  "kernelspec": {
   "display_name": "Python 3",
   "language": "python",
   "name": "python3"
  },
  "language_info": {
   "codemirror_mode": {
    "name": "ipython",
    "version": 3
   },
   "file_extension": ".py",
   "mimetype": "text/x-python",
   "name": "python",
   "nbconvert_exporter": "python",
   "pygments_lexer": "ipython3",
   "version": "3.6.4"
  }
 },
 "nbformat": 4,
 "nbformat_minor": 2
}
