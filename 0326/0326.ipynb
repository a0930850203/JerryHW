{
 "cells": [
  {
   "cell_type": "markdown",
   "metadata": {},
   "source": [
    "作業一"
   ]
  },
  {
   "cell_type": "code",
   "execution_count": 2,
   "metadata": {},
   "outputs": [
    {
     "name": "stdout",
     "output_type": "stream",
     "text": [
      "輸入數字:200\n"
     ]
    },
    {
     "data": {
      "text/plain": [
       "{300}"
      ]
     },
     "execution_count": 2,
     "metadata": {},
     "output_type": "execute_result"
    }
   ],
   "source": [
    "a = [int(x) for x in input(\"輸入數字:\").split()]\n",
    "{*map(lambda x: x + 100, a)}"
   ]
  },
  {
   "cell_type": "code",
   "execution_count": 5,
   "metadata": {},
   "outputs": [
    {
     "name": "stdout",
     "output_type": "stream",
     "text": [
      "a+b= 8\n"
     ]
    },
    {
     "data": {
      "text/plain": [
       "('a*b=', 15)"
      ]
     },
     "execution_count": 5,
     "metadata": {},
     "output_type": "execute_result"
    }
   ],
   "source": [
    "def document_it(func): \n",
    "    def new_function(*args, **kwargs): \n",
    "        result = func(*args, **kwargs) \n",
    "        print(\"a+b=\",result)\n",
    "        result=1\n",
    "        for v in args:\n",
    "            result *= v\n",
    "        return \"a*b=\" ,result\n",
    "    return new_function \n",
    "@document_it\n",
    "def add_ints(a, b): \n",
    "    return a + b \n",
    "add_ints(3, 5)"
   ]
  },
  {
   "cell_type": "code",
   "execution_count": 6,
   "metadata": {},
   "outputs": [
    {
     "name": "stdout",
     "output_type": "stream",
     "text": [
      "輸入整數:1\n"
     ]
    }
   ],
   "source": [
    "try:\n",
    "    a=input(\"輸入整數:\")\n",
    "    if int(a) == a :\n",
    "        print(a)\n",
    "except :\n",
    "    print(\"出錯，重新輸入\")"
   ]
  },
  {
   "cell_type": "code",
   "execution_count": null,
   "metadata": {},
   "outputs": [],
   "source": []
  }
 ],
 "metadata": {
  "kernelspec": {
   "display_name": "Python 3",
   "language": "python",
   "name": "python3"
  },
  "language_info": {
   "codemirror_mode": {
    "name": "ipython",
    "version": 3
   },
   "file_extension": ".py",
   "mimetype": "text/x-python",
   "name": "python",
   "nbconvert_exporter": "python",
   "pygments_lexer": "ipython3",
   "version": "3.6.4"
  }
 },
 "nbformat": 4,
 "nbformat_minor": 2
}
